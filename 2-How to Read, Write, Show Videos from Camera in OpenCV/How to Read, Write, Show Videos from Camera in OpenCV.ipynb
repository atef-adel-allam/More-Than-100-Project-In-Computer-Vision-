{
 "cells": [
  {
   "cell_type": "code",
   "execution_count": 1,
   "metadata": {},
   "outputs": [],
   "source": [
    "import cv2\n",
    "cap=cv2.VideoCapture(0)\n",
    "fourcc= cv2.VideoWriter_fourcc(*'XVID')\n",
    "out=cv2.VideoWriter('output.avi',fourcc, 20.0, (640,480))\n",
    "# print(cap.isOpened())\n",
    "while(cap.isOpened()):\n",
    "    ret, frame=cap.read()\n",
    "    if ret==True:\n",
    "        # print(cap.get(cv2.CAP_PROP_FRAME_WIDTH))\n",
    "        # print(cap.get(cv2.CAP_PROP_FRAME_HEIGHT))\n",
    "        out.write(frame)\n",
    "        gray=cv2.cvtColor(frame,cv2.COLOR_BGR2GRAY)\n",
    "        cv2.imshow('frame', gray)\n",
    "        if cv2.waitKey(1) & 0xFF == ord('q'):\n",
    "            break\n",
    "        \n",
    "cap.release()\n",
    "out.release()\n",
    "cv2.destroyAllWindows()\n"
   ]
  },
  {
   "cell_type": "code",
   "execution_count": null,
   "metadata": {},
   "outputs": [],
   "source": []
  }
 ],
 "metadata": {
  "kernelspec": {
   "display_name": "yolo",
   "language": "python",
   "name": "python3"
  },
  "language_info": {
   "codemirror_mode": {
    "name": "ipython",
    "version": 3
   },
   "file_extension": ".py",
   "mimetype": "text/x-python",
   "name": "python",
   "nbconvert_exporter": "python",
   "pygments_lexer": "ipython3",
   "version": "3.10.8"
  }
 },
 "nbformat": 4,
 "nbformat_minor": 2
}
