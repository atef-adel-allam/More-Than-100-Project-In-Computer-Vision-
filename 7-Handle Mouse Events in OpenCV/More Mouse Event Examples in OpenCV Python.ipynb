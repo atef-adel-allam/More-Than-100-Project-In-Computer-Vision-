{
 "cells": [
  {
   "cell_type": "code",
   "execution_count": 1,
   "metadata": {},
   "outputs": [
    {
     "name": "stdout",
     "output_type": "stream",
     "text": [
      "['EVENT_FLAG_ALTKEY', 'EVENT_FLAG_CTRLKEY', 'EVENT_FLAG_LBUTTON', 'EVENT_FLAG_MBUTTON', 'EVENT_FLAG_RBUTTON', 'EVENT_FLAG_SHIFTKEY', 'EVENT_LBUTTONDBLCLK', 'EVENT_LBUTTONDOWN', 'EVENT_LBUTTONUP', 'EVENT_MBUTTONDBLCLK', 'EVENT_MBUTTONDOWN', 'EVENT_MBUTTONUP', 'EVENT_MOUSEHWHEEL', 'EVENT_MOUSEMOVE', 'EVENT_MOUSEWHEEL', 'EVENT_RBUTTONDBLCLK', 'EVENT_RBUTTONDOWN', 'EVENT_RBUTTONUP']\n"
     ]
    }
   ],
   "source": [
    "import numpy as np\n",
    "import cv2\n",
    "\n",
    "events=[i for i in dir(cv2) if 'EVENT' in i]\n",
    "print (events)"
   ]
  },
  {
   "cell_type": "code",
   "execution_count": 20,
   "metadata": {},
   "outputs": [],
   "source": [
    "def click_event(event,x,y,flag,param):\n",
    "    if event==cv2.EVENT_LBUTTONDOWN:\n",
    "        print(f'X: {x}, Y: {y}')\n",
    "        cv2.circle(img,(x,y),13,(255,255,255),-1)\n",
    "        points.append((x,y))\n",
    "        if len(points)>=2:\n",
    "            cv2.line(img,points[-1],points[-2],(255,0,0))\n",
    "            cv2.imshow('image',img)\n",
    "        # font=cv2.FONT_HERSHEY_SIMPLEX\n",
    "        # cv2.putText(img,f'({x},{y})',(x,y),font,0.5,(255,0,0),2)\n",
    "        # cv2.imshow('image',img)\n",
    " "
   ]
  },
  {
   "cell_type": "code",
   "execution_count": 21,
   "metadata": {},
   "outputs": [
    {
     "name": "stdout",
     "output_type": "stream",
     "text": [
      "X: 1153, Y: 523\n",
      "X: 1102, Y: 322\n",
      "X: 850, Y: 335\n",
      "X: 778, Y: 447\n",
      "X: 795, Y: 551\n",
      "X: 939, Y: 576\n",
      "X: 1151, Y: 522\n"
     ]
    }
   ],
   "source": [
    "img=cv2.imread('Apple.jpg',1)\n",
    "cv2.imshow('image',img)\n",
    "points=[]\n",
    "\n",
    "# cv2.namedWindow('image')\n",
    "cv2.setMouseCallback('image',click_event)\n",
    "\n",
    "cv2.waitKey(0)\n",
    "cv2.destroyAllWindows()"
   ]
  }
 ],
 "metadata": {
  "kernelspec": {
   "display_name": "yolo",
   "language": "python",
   "name": "python3"
  },
  "language_info": {
   "codemirror_mode": {
    "name": "ipython",
    "version": 3
   },
   "file_extension": ".py",
   "mimetype": "text/x-python",
   "name": "python",
   "nbconvert_exporter": "python",
   "pygments_lexer": "ipython3",
   "version": "3.10.8"
  }
 },
 "nbformat": 4,
 "nbformat_minor": 2
}
