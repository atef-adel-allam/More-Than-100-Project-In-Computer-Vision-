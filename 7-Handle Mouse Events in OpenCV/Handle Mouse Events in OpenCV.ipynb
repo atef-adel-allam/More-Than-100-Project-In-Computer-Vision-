{
 "cells": [
  {
   "cell_type": "code",
   "execution_count": 1,
   "metadata": {},
   "outputs": [
    {
     "name": "stdout",
     "output_type": "stream",
     "text": [
      "['EVENT_FLAG_ALTKEY', 'EVENT_FLAG_CTRLKEY', 'EVENT_FLAG_LBUTTON', 'EVENT_FLAG_MBUTTON', 'EVENT_FLAG_RBUTTON', 'EVENT_FLAG_SHIFTKEY', 'EVENT_LBUTTONDBLCLK', 'EVENT_LBUTTONDOWN', 'EVENT_LBUTTONUP', 'EVENT_MBUTTONDBLCLK', 'EVENT_MBUTTONDOWN', 'EVENT_MBUTTONUP', 'EVENT_MOUSEHWHEEL', 'EVENT_MOUSEMOVE', 'EVENT_MOUSEWHEEL', 'EVENT_RBUTTONDBLCLK', 'EVENT_RBUTTONDOWN', 'EVENT_RBUTTONUP']\n"
     ]
    }
   ],
   "source": [
    "import numpy as np\n",
    "import cv2\n",
    "\n",
    "events=[i for i in dir(cv2) if 'EVENT' in i]\n",
    "print (events)"
   ]
  },
  {
   "cell_type": "code",
   "execution_count": 2,
   "metadata": {},
   "outputs": [],
   "source": [
    "def click_event(event,x,y,flag,param):\n",
    "    if event==cv2.EVENT_LBUTTONDOWN:\n",
    "        print(f'X: {x}, Y: {y}')\n",
    "        # strXY=str(x)+' , '+str(y)\n",
    "        font=cv2.FONT_HERSHEY_SIMPLEX\n",
    "        cv2.putText(img,f'({x},{y})',(x,y),font,0.5,(255,0,0),2)\n",
    "        cv2.imshow('image',img)\n",
    "    if event==cv2.EVENT_RBUTTONDOWN:\n",
    "        blue=img[x,y,0]\n",
    "        green=img[x,y,1]\n",
    "        red=img[x,y,2]\n",
    "        font=cv2.FONT_HERSHEY_SIMPLEX\n",
    "        cv2.putText(img,f'RGB: ({red},{green},{blue})',(x,y),font,0.5,(0,0,255),2)\n",
    "        # cv2.rectangle(img,(x-50,y-50),(x+50,y+50),(0,255,0),2)\n",
    "        cv2.imshow('image',img)\n"
   ]
  },
  {
   "cell_type": "code",
   "execution_count": 4,
   "metadata": {},
   "outputs": [
    {
     "name": "stdout",
     "output_type": "stream",
     "text": [
      "X: 927, Y: 505\n",
      "X: 808, Y: 510\n",
      "X: 1115, Y: 502\n"
     ]
    }
   ],
   "source": [
    "img=cv2.imread('Apple.jpg',1)\n",
    "\n",
    "cv2.namedWindow('image')\n",
    "\n",
    "cv2.setMouseCallback('image',click_event)\n",
    "\n",
    "\n",
    "cv2.imshow('image',img)\n",
    "\n",
    "cv2.waitKey(0)\n",
    "\n",
    "cv2.destroyAllWindows()"
   ]
  }
 ],
 "metadata": {
  "kernelspec": {
   "display_name": "yolo",
   "language": "python",
   "name": "python3"
  },
  "language_info": {
   "codemirror_mode": {
    "name": "ipython",
    "version": 3
   },
   "file_extension": ".py",
   "mimetype": "text/x-python",
   "name": "python",
   "nbconvert_exporter": "python",
   "pygments_lexer": "ipython3",
   "version": "3.10.8"
  }
 },
 "nbformat": 4,
 "nbformat_minor": 2
}
