{
 "cells": [
  {
   "cell_type": "code",
   "execution_count": null,
   "id": "d1d6b8f0",
   "metadata": {},
   "outputs": [
    {
     "ename": "FileNotFoundError",
     "evalue": "[WinError 3] The system cannot find the path specified: ''",
     "output_type": "error",
     "traceback": [
      "\u001b[1;31m---------------------------------------------------------------------------\u001b[0m",
      "\u001b[1;31mFileNotFoundError\u001b[0m                         Traceback (most recent call last)",
      "Cell \u001b[1;32mIn[2], line 19\u001b[0m\n\u001b[0;32m     17\u001b[0m input_dir \u001b[38;5;241m=\u001b[39m \u001b[38;5;124m\"\u001b[39m\u001b[38;5;124m\"\u001b[39m\n\u001b[0;32m     18\u001b[0m \u001b[38;5;66;03m#input_dir = \"pathology_input/\"\u001b[39;00m\n\u001b[1;32m---> 19\u001b[0m input_image_list \u001b[38;5;241m=\u001b[39m \u001b[43mos\u001b[49m\u001b[38;5;241;43m.\u001b[39;49m\u001b[43mlistdir\u001b[49m\u001b[43m(\u001b[49m\u001b[43minput_dir\u001b[49m\u001b[43m)\u001b[49m\n\u001b[0;32m     21\u001b[0m output_dir \u001b[38;5;241m=\u001b[39m \u001b[38;5;124m\"\u001b[39m\u001b[38;5;124m\"\u001b[39m\n\u001b[0;32m     22\u001b[0m \u001b[38;5;66;03m#output_dir = \"pathology_output/\"\u001b[39;00m\n",
      "\u001b[1;31mFileNotFoundError\u001b[0m: [WinError 3] The system cannot find the path specified: ''"
     ]
    }
   ],
   "source": [
    "\n",
    "\"\"\"\n",
    "Reinhard color transfer \n",
    "Based on the paper: https://www.cs.tau.ac.il/~turkel/imagepapers/ColorTransfer.pdf\n",
    "\n",
    "This approach is suitable for stain normalization of pathology images where\n",
    "the 'look and feel' of all images can be normalized to a template image. \n",
    "This can be a good preprocessing step for machine learning and deep learning \n",
    "of pathology images. \n",
    "\n",
    "\"\"\"\n",
    "\n",
    "import numpy as np\n",
    "import cv2\n",
    "import os\n",
    "os.chdir(r\"D:\\Projects\\CV Ahmed Ibrahim\\CV_youtube\\12-Reinhard-color-transfer\")\n",
    "\n",
    "input_dir = \"input_images/\"\n",
    "#input_dir = \"pathology_input/\"\n",
    "input_image_list = os.listdir(input_dir)\n",
    "\n",
    "output_dir = \"output_images/\"\n",
    "#output_dir = \"pathology_output/\"\n",
    "\n",
    "def get_mean_and_std(x):\n",
    "\tx_mean, x_std = cv2.meanStdDev(x)\n",
    "\tx_mean = np.hstack(np.around(x_mean,2)) # 9.879\n",
    "\tx_std = np.hstack(np.around(x_std,2))\n",
    "\treturn x_mean, x_std\n",
    "\n",
    "template_img = cv2.imread('images (6).jpg')\n",
    "#template_img = cv2.imread('pathology_template/3.png')\n",
    "template_img = cv2.cvtColor(template_img,cv2.COLOR_BGR2LAB)\n",
    "template_mean, template_std = get_mean_and_std(template_img)\n",
    "\n",
    "for img in (input_image_list):\n",
    "    print(img)\n",
    "    input_img = cv2.imread(input_dir+img)\n",
    "    input_img = cv2.cvtColor(input_img,cv2.COLOR_BGR2LAB)\n",
    "    \n",
    "    \n",
    "    img_mean, img_std = get_mean_and_std(input_img)\n",
    "    \n",
    "    \n",
    "    height, width, channel = input_img.shape\n",
    "    for i in range(0,height):\n",
    "        for j in range(0,width):\n",
    "            for k in range(0,channel):\n",
    "            \tx = input_img[i,j,k]\n",
    "             # print(\"x\",x)\n",
    "            \tx = ((x-img_mean[k])*(template_std[k]/img_std[k]))+template_mean[k]\n",
    "            \tx = round(x)\n",
    "            \t# boundary check\n",
    "            \tx = 0 if x<0 else x\n",
    "            \tx = 255 if x>255 else x\n",
    "            \tinput_img[i,j,k] = x\n",
    "            \n",
    "    input_img= cv2.cvtColor(input_img,cv2.COLOR_LAB2BGR)\n",
    "    cv2.imwrite(output_dir+\"modified_\"+img, input_img)\n"
   ]
  },
  {
   "cell_type": "code",
   "execution_count": null,
   "id": "a35444aa",
   "metadata": {},
   "outputs": [],
   "source": []
  }
 ],
 "metadata": {
  "kernelspec": {
   "display_name": "yolo",
   "language": "python",
   "name": "python3"
  },
  "language_info": {
   "codemirror_mode": {
    "name": "ipython",
    "version": 3
   },
   "file_extension": ".py",
   "mimetype": "text/x-python",
   "name": "python",
   "nbconvert_exporter": "python",
   "pygments_lexer": "ipython3",
   "version": "3.10.8"
  }
 },
 "nbformat": 4,
 "nbformat_minor": 5
}
