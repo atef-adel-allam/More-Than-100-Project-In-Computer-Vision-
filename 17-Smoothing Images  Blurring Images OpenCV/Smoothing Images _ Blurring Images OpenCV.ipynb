{
 "cells": [
  {
   "cell_type": "code",
   "execution_count": 12,
   "metadata": {},
   "outputs": [
    {
     "name": "stdout",
     "output_type": "stream",
     "text": [
      "Image loaded successfully!\n"
     ]
    }
   ],
   "source": [
    "import cv2\n",
    "img = cv2.imread('lena.jpg')\n",
    "\n",
    "averaging = cv2.blur(img,(5,5))\n",
    "gblur=cv2.GaussianBlur(img,(5,5),0)\n",
    "mblur=cv2.medianBlur(img,5)\n",
    "bilateralfilter=cv2.bilateralFilter(img,9,75,75)\n",
    "\n",
    "cv2.imshow('early_image',img)\n",
    "cv2.imshow('averaging',averaging)\n",
    "cv2.imshow('gblur',gblur)\n",
    "cv2.imshow('mblur',mblur)\n",
    "\n",
    "cv2.imshow('bilateralfilter',bilateralfilter)\n",
    "\n",
    "cv2.waitKey(0)\n",
    "\n",
    "cv2.destroyAllWindows()\n",
    "\n",
    "print('Image loaded successfully!')\n"
   ]
  },
  {
   "cell_type": "code",
   "execution_count": null,
   "metadata": {},
   "outputs": [],
   "source": []
  }
 ],
 "metadata": {
  "kernelspec": {
   "display_name": "yolo",
   "language": "python",
   "name": "python3"
  },
  "language_info": {
   "codemirror_mode": {
    "name": "ipython",
    "version": 3
   },
   "file_extension": ".py",
   "mimetype": "text/x-python",
   "name": "python",
   "nbconvert_exporter": "python",
   "pygments_lexer": "ipython3",
   "version": "3.10.8"
  }
 },
 "nbformat": 4,
 "nbformat_minor": 2
}
