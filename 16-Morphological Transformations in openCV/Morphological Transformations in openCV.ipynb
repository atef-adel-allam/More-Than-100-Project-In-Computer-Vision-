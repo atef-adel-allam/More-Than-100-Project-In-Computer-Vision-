{
 "cells": [
  {
   "cell_type": "code",
   "execution_count": 14,
   "metadata": {},
   "outputs": [],
   "source": [
    "import cv2\n",
    "import numpy as np\n",
    "\n",
    "img=cv2.imread('smarties.png',0) #cv2.IMREAD_GRAYSCALE\n",
    "_,mask=cv2.threshold(img,220,255,cv2.THRESH_BINARY_INV) #cv2.threshold(img,\n",
    "\n",
    "kernal=np.ones((5,5),np.uint8)\n",
    "dialation=cv2.dilate(mask,kernal,iterations=2) #cv2.dilate\n",
    "ero=cv2.erode(mask,kernal,iterations=2) #cv2.dilate\n",
    "\n",
    "\n",
    "\n",
    "opening=cv2.morphologyEx(mask,cv2.MORPH_OPEN,kernal,iterations=2) \n",
    "clothing=cv2.morphologyEx(mask,cv2.MORPH_CLOSE,kernal,iterations=2)\n",
    "\n",
    "cv2.imshow('dialation', dialation)\n",
    "cv2.imshow('Ero', ero)\n",
    "cv2.imshow('opening', opening)\n",
    "cv2.imshow('clothing', clothing)\n",
    "\n",
    "\n",
    "cv2.imshow('img', mask)\n",
    "\n",
    "cv2.waitKey(0)\n",
    "\n",
    "cv2.destroyAllWindows()"
   ]
  },
  {
   "cell_type": "code",
   "execution_count": null,
   "metadata": {},
   "outputs": [],
   "source": []
  }
 ],
 "metadata": {
  "kernelspec": {
   "display_name": "yolo",
   "language": "python",
   "name": "python3"
  },
  "language_info": {
   "codemirror_mode": {
    "name": "ipython",
    "version": 3
   },
   "file_extension": ".py",
   "mimetype": "text/x-python",
   "name": "python",
   "nbconvert_exporter": "python",
   "pygments_lexer": "ipython3",
   "version": "3.10.8"
  }
 },
 "nbformat": 4,
 "nbformat_minor": 2
}
