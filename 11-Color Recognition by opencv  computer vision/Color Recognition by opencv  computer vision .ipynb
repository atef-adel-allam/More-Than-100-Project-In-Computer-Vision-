{
 "cells": [
  {
   "cell_type": "code",
   "execution_count": 6,
   "metadata": {},
   "outputs": [],
   "source": [
    "import cv2\n",
    "\n",
    "cap = cv2.VideoCapture(0)\n",
    "cap.set(cv2.CAP_PROP_FRAME_WIDTH, 1280)\n",
    "cap.set(cv2.CAP_PROP_FRAME_HEIGHT, 720)\n",
    "\n",
    "while True:\n",
    "    _, frame = cap.read()\n",
    "    hsv_frame = cv2.cvtColor(frame, cv2.COLOR_BGR2HSV)\n",
    "    height, width, _ = frame.shape\n",
    "\n",
    "    cx = int(width / 2)\n",
    "    cy = int(height / 2)\n",
    "\n",
    "    # Pick pixel value\n",
    "    pixel_center = hsv_frame[cy, cx]\n",
    "    hue_value = pixel_center[0]\n",
    "\n",
    "    color = \"Undefined\"\n",
    "    if hue_value < 5:\n",
    "        color = \"RED\"\n",
    "    elif hue_value < 22:\n",
    "        color = \"ORANGE\"\n",
    "    elif hue_value < 33:\n",
    "        color = \"YELLOW\"\n",
    "    elif hue_value < 78:\n",
    "        color = \"GREEN\"\n",
    "    elif hue_value < 131:\n",
    "        color = \"BLUE\"\n",
    "    elif hue_value < 170:\n",
    "        color = \"VIOLET\"\n",
    "    else:\n",
    "        color = \"RED\"\n",
    "\n",
    "    pixel_center_bgr = frame[cy, cx]\n",
    "    b, g, r = int(pixel_center_bgr[0]), int(pixel_center_bgr[1]), int(pixel_center_bgr[2])\n",
    "\n",
    "    cv2.rectangle(frame, (cx - 220, 10), (cx + 200, 120), (255, 255, 255), -1)\n",
    "    cv2.putText(frame, color, (cx - 200, 100), 0, 3, (b, g, r), 5)\n",
    "    cv2.circle(frame, (cx, cy), 5, (25, 25, 25), 3)\n",
    "    cv2.imshow(\"Frame\", frame)\n",
    "    #out.write(frame) #save your video\n",
    "    key = cv2.waitKey(1)\n",
    "    if key == 27:\n",
    "        break\n",
    "\n",
    "cap.release()\n",
    "\n",
    "cv2.destroyAllWindows()"
   ]
  }
 ],
 "metadata": {
  "kernelspec": {
   "display_name": "yolo",
   "language": "python",
   "name": "python3"
  },
  "language_info": {
   "codemirror_mode": {
    "name": "ipython",
    "version": 3
   },
   "file_extension": ".py",
   "mimetype": "text/x-python",
   "name": "python",
   "nbconvert_exporter": "python",
   "pygments_lexer": "ipython3",
   "version": "3.10.8"
  }
 },
 "nbformat": 4,
 "nbformat_minor": 2
}
