{
 "cells": [
  {
   "cell_type": "code",
   "execution_count": 1,
   "metadata": {},
   "outputs": [],
   "source": [
    "import numpy as np\n",
    "import cv2\n"
   ]
  },
  {
   "cell_type": "code",
   "execution_count": 76,
   "metadata": {},
   "outputs": [
    {
     "name": "stdout",
     "output_type": "stream",
     "text": [
      "(1600, 1285, 3)\n",
      "(2560, 2111, 3)\n"
     ]
    }
   ],
   "source": [
    "img=cv2.imread('Messi.jpg',1)\n",
    "img2=cv2.imread('Apple.jpg',1)\n",
    "print(img.shape)\n",
    "print(img2.shape)\n",
    "\n",
    "r,g,b=cv2.split( img)\n",
    "img=cv2.merge((r,g,b))\n",
    "img=cv2.resize(img, (512,512))\n",
    "img2=cv2.resize(img2, (512,512))\n",
    "meg=cv2.add( img,img2 )\n",
    "meg=cv2.addWeighted(img,0.5,img2,0.5,100)\n",
    "# ball=img[430:690,230 :350]\n",
    "# img[420:670,210 :340] = ball\n",
    "cv2.imshow('image',meg)\n",
    "\n",
    "# cv2.imshow('image',img2)\n",
    "cv2.waitKey(0)\n",
    "cv2.destroyAllWindows()"
   ]
  },
  {
   "cell_type": "code",
   "execution_count": null,
   "metadata": {},
   "outputs": [],
   "source": []
  }
 ],
 "metadata": {
  "kernelspec": {
   "display_name": "yolo",
   "language": "python",
   "name": "python3"
  },
  "language_info": {
   "codemirror_mode": {
    "name": "ipython",
    "version": 3
   },
   "file_extension": ".py",
   "mimetype": "text/x-python",
   "name": "python",
   "nbconvert_exporter": "python",
   "pygments_lexer": "ipython3",
   "version": "3.10.8"
  }
 },
 "nbformat": 4,
 "nbformat_minor": 2
}
