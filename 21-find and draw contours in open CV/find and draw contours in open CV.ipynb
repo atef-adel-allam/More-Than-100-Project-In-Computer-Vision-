{
 "cells": [
  {
   "cell_type": "code",
   "execution_count": 11,
   "metadata": {},
   "outputs": [
    {
     "name": "stdout",
     "output_type": "stream",
     "text": [
      "Number of contours = 10\n"
     ]
    }
   ],
   "source": [
    "import numpy as np\n",
    "\n",
    "import cv2\n",
    "\n",
    "\n",
    "\n",
    "img = cv2.imread('cv.png')\n",
    "# img=cv2.resize(img, (255,255))\n",
    "\n",
    "imgray = cv2.cvtColor(img, cv2.COLOR_BGR2GRAY)\n",
    "\n",
    "ret, thresh = cv2.threshold(imgray, 127, 255, 0)\n",
    "\n",
    "contours, hierarchy = cv2.findContours(thresh, cv2.RETR_TREE, cv2.CHAIN_APPROX_NONE)\n",
    "\n",
    "print(\"Number of contours = \" + str(len(contours)))\n",
    "\n",
    "# print(contours[0])\n",
    "\n",
    "\n",
    "\n",
    "cv2.drawContours(img, contours, -1, (0, 255, 0), 3)\n",
    "\n",
    "cv2.drawContours(imgray, contours, -1, (0, 255, 0), 3)\n",
    "\n",
    "\n",
    "\n",
    "cv2.imshow('Image', img)\n",
    "\n",
    "cv2.imshow('Image GRAY', imgray)\n",
    "\n",
    "\n",
    "cv2.waitKey(0)\n",
    "\n",
    "cv2.destroyAllWindows()#close window"
   ]
  },
  {
   "cell_type": "code",
   "execution_count": 19,
   "metadata": {},
   "outputs": [
    {
     "name": "stdout",
     "output_type": "stream",
     "text": [
      "Downloading video...\n",
      "[youtube] Extracting URL: https://youtu.be/TmW_hguHv80\n",
      "[youtube] TmW_hguHv80: Downloading webpage\n",
      "[youtube] TmW_hguHv80: Downloading ios player API JSON\n",
      "[youtube] TmW_hguHv80: Downloading web creator player API JSON\n",
      "[youtube] TmW_hguHv80: Downloading m3u8 information\n",
      "[info] TmW_hguHv80: Downloading 1 format(s): 605+140\n",
      "[download] downloaded_video.mp4 has already been downloaded\n",
      "Download complete. Video saved as: downloaded_video.mp4\n",
      "Loading video...\n",
      "Trimming video from 0 to 44 seconds...\n",
      "Saving the trimmed video...\n",
      "Moviepy - Building video trimmed_video_0_to_44.mp4.\n",
      "MoviePy - Writing audio in trimmed_video_0_to_44TEMP_MPY_wvf_snd.mp4\n"
     ]
    },
    {
     "name": "stderr",
     "output_type": "stream",
     "text": [
      "                                                                    \r"
     ]
    },
    {
     "name": "stdout",
     "output_type": "stream",
     "text": [
      "MoviePy - Done.\n",
      "Moviepy - Writing video trimmed_video_0_to_44.mp4\n",
      "\n"
     ]
    },
    {
     "name": "stderr",
     "output_type": "stream",
     "text": [
      "                                                                 \r"
     ]
    },
    {
     "name": "stdout",
     "output_type": "stream",
     "text": [
      "Moviepy - Done !\n",
      "Moviepy - video ready trimmed_video_0_to_44.mp4\n",
      "Trimming complete. Trimmed video saved as: trimmed_video_0_to_44.mp4\n"
     ]
    }
   ],
   "source": [
    "import yt_dlp\n",
    "from moviepy.video.io.VideoFileClip import VideoFileClip\n",
    "\n",
    "# YouTube video URL\n",
    "video_url = \"https://youtu.be/TmW_hguHv80\"\n",
    "\n",
    "# File paths\n",
    "download_path = \"downloaded_video.mp4\"  # Path for the downloaded video\n",
    "output_path = \"trimmed_video_0_to_44.mp4\"  # Path for the trimmed video\n",
    "\n",
    "try:\n",
    "    # Step 1: Download the video using yt-dlp\n",
    "    print(\"Downloading video...\")\n",
    "    ydl_opts = {\n",
    "        'format': 'bestvideo[ext=mp4]+bestaudio[ext=m4a]/best[ext=mp4]/best',  # Fallback to the best available format\n",
    "        'outtmpl': download_path,  # Save as this file\n",
    "    }\n",
    "    with yt_dlp.YoutubeDL(ydl_opts) as ydl:\n",
    "        ydl.download([video_url])\n",
    "    print(\"Download complete. Video saved as:\", download_path)\n",
    "\n",
    "    # Step 2: Load and trim the video\n",
    "    print(\"Loading video...\")\n",
    "    video = VideoFileClip(download_path)\n",
    "\n",
    "    print(\"Trimming video from 0 to 44 seconds...\")\n",
    "    trimmed_video = video.subclip(0, 44)  # Keep from start (0) to 44 seconds\n",
    "\n",
    "    # Step 3: Save the trimmed video with audio\n",
    "    print(\"Saving the trimmed video...\")\n",
    "    trimmed_video.write_videofile(output_path, codec=\"libx264\", audio_codec=\"aac\")\n",
    "    print(\"Trimming complete. Trimmed video saved as:\", output_path)\n",
    "\n",
    "except Exception as e:\n",
    "    print(f\"An error occurred: {e}\")\n"
   ]
  }
 ],
 "metadata": {
  "kernelspec": {
   "display_name": "yolo",
   "language": "python",
   "name": "python3"
  },
  "language_info": {
   "codemirror_mode": {
    "name": "ipython",
    "version": 3
   },
   "file_extension": ".py",
   "mimetype": "text/x-python",
   "name": "python",
   "nbconvert_exporter": "python",
   "pygments_lexer": "ipython3",
   "version": "3.10.8"
  }
 },
 "nbformat": 4,
 "nbformat_minor": 2
}
