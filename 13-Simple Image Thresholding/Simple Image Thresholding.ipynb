{
 "cells": [
  {
   "cell_type": "code",
   "execution_count": 2,
   "metadata": {},
   "outputs": [],
   "source": [
    "import cv2\n",
    "\n",
    "img=cv2.imread('gradient.png',0)\n",
    "\n",
    "_,th1=cv2.threshold(img,55,255,cv2.THRESH_BINARY)\n",
    "_,th2=cv2.threshold(img,55,255,cv2.THRESH_BINARY_INV)\n",
    "\n",
    "_,th3=cv2.threshold(img,55,255,cv2.THRESH_TRUNC)\n",
    "\n",
    "_,th4=cv2.threshold(img,55,255,cv2.THRESH_TOZERO)\n",
    "\n",
    "_,th5=cv2.threshold(img,55,255,cv2.THRESH_TOZERO_INV)\n",
    "\n",
    "cv2.imshow('image',img) \n",
    "\n",
    "cv2.imshow('BINARY',th1)\n",
    "\n",
    "cv2.imshow('BINARY_INV',th2)\n",
    "\n",
    "cv2.imshow('TRUNC',th3)\n",
    "\n",
    "cv2.imshow('TOZERO',th4)\n",
    "\n",
    "cv2.imshow('TOZERO_INV',th5)\n",
    "\n",
    "cv2.waitKey(0)\n",
    "\n",
    "cv2.destroyAllWindows()"
   ]
  }
 ],
 "metadata": {
  "kernelspec": {
   "display_name": "yolo",
   "language": "python",
   "name": "python3"
  },
  "language_info": {
   "codemirror_mode": {
    "name": "ipython",
    "version": 3
   },
   "file_extension": ".py",
   "mimetype": "text/x-python",
   "name": "python",
   "nbconvert_exporter": "python",
   "pygments_lexer": "ipython3",
   "version": "3.10.8"
  }
 },
 "nbformat": 4,
 "nbformat_minor": 2
}
