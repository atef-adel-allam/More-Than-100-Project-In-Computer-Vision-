{
 "cells": [
  {
   "cell_type": "code",
   "execution_count": 5,
   "metadata": {},
   "outputs": [
    {
     "name": "stdout",
     "output_type": "stream",
     "text": [
      "1280.0\n",
      "720.0\n"
     ]
    }
   ],
   "source": [
    "import cv2\n",
    "import datetime as datetime\n",
    "cap=cv2.VideoCapture(0)\n",
    "cap.set(3,3000)#video capture width  instead      # print(cap.get(cv2.CAP_PROP_FRAME_WIDTH))\n",
    "        \n",
    "cap.set(4,3000)#video capture height instead # print(cap.get(cv2.CAP_PROP_FRAME_HEIGHT))\n",
    "print(cap.get(3))\n",
    "print(cap.get(4))\n",
    "fourcc=cv2.VideoWriter_fourcc(*'XVID')\n",
    "# Out=cv2.VideoWriter(\"x.avi\",fourcc,20,(512,512))\n",
    "while True:\n",
    "    ret, frame=cap.read()\n",
    "    font=cv2.FONT_HERSHEY_SIMPLEX\n",
    "    text='Width'+str(cap.get(3))+'Height'+str(cap.get(4))\n",
    "    datet=str(datetime.datetime.now())\n",
    "    frame=cv2.putText(frame,text,(10,100),font,1,(255,255,255),2,cv2.LINE_AA)\n",
    "    frame=cv2.putText(frame,datet,(10,50),font,1,(255,255,255),2,cv2.LINE_AA)\n",
    "    gray=cv2.cvtColor(frame, cv2.COLOR_BGR2GRAY)\n",
    "    cv2.imshow('frame',gray)\n",
    "    if cv2.waitKey(1) & 0xFF == ord('q'):\n",
    "        break\n",
    "\n",
    "cap.release()\n",
    "# Out.release()\n",
    "cv2.destroyAllWindows()"
   ]
  }
 ],
 "metadata": {
  "kernelspec": {
   "display_name": "yolo",
   "language": "python",
   "name": "python3"
  },
  "language_info": {
   "codemirror_mode": {
    "name": "ipython",
    "version": 3
   },
   "file_extension": ".py",
   "mimetype": "text/x-python",
   "name": "python",
   "nbconvert_exporter": "python",
   "pygments_lexer": "ipython3",
   "version": "3.10.8"
  }
 },
 "nbformat": 4,
 "nbformat_minor": 2
}
