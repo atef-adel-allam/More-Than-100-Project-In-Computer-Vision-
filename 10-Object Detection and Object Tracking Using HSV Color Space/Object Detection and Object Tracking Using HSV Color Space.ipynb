{
 "cells": [
  {
   "cell_type": "code",
   "execution_count": 1,
   "metadata": {},
   "outputs": [],
   "source": [
    "import numpy as np\n",
    "import cv2\n"
   ]
  },
  {
   "cell_type": "code",
   "execution_count": null,
   "metadata": {},
   "outputs": [
    {
     "ename": "error",
     "evalue": "OpenCV(4.5.5) D:\\a\\opencv-python\\opencv-python\\opencv\\modules\\highgui\\src\\window_w32.cpp:2581: error: (-27:Null pointer) NULL window: 'Tracking' in function 'cvGetTrackbarPos'\n",
     "output_type": "error",
     "traceback": [
      "\u001b[1;31m---------------------------------------------------------------------------\u001b[0m",
      "\u001b[1;31merror\u001b[0m                                     Traceback (most recent call last)",
      "Cell \u001b[1;32mIn[1], line 39\u001b[0m\n\u001b[0;32m     31\u001b[0m frame \u001b[38;5;241m=\u001b[39m cv2\u001b[38;5;241m.\u001b[39mimread(\u001b[38;5;124m'\u001b[39m\u001b[38;5;124msmarties.png\u001b[39m\u001b[38;5;124m'\u001b[39m)      \n\u001b[0;32m     35\u001b[0m hsv \u001b[38;5;241m=\u001b[39m cv2\u001b[38;5;241m.\u001b[39mcvtColor(frame, cv2\u001b[38;5;241m.\u001b[39mCOLOR_BGR2HSV)       \n\u001b[1;32m---> 39\u001b[0m l_h \u001b[38;5;241m=\u001b[39m \u001b[43mcv2\u001b[49m\u001b[38;5;241;43m.\u001b[39;49m\u001b[43mgetTrackbarPos\u001b[49m\u001b[43m(\u001b[49m\u001b[38;5;124;43m\"\u001b[39;49m\u001b[38;5;124;43mLH\u001b[39;49m\u001b[38;5;124;43m\"\u001b[39;49m\u001b[43m,\u001b[49m\u001b[43m \u001b[49m\u001b[38;5;124;43m\"\u001b[39;49m\u001b[38;5;124;43mTracking\u001b[39;49m\u001b[38;5;124;43m\"\u001b[39;49m\u001b[43m)\u001b[49m       \n\u001b[0;32m     41\u001b[0m l_s \u001b[38;5;241m=\u001b[39m cv2\u001b[38;5;241m.\u001b[39mgetTrackbarPos(\u001b[38;5;124m\"\u001b[39m\u001b[38;5;124mLS\u001b[39m\u001b[38;5;124m\"\u001b[39m, \u001b[38;5;124m\"\u001b[39m\u001b[38;5;124mTracking\u001b[39m\u001b[38;5;124m\"\u001b[39m)       \n\u001b[0;32m     43\u001b[0m l_v \u001b[38;5;241m=\u001b[39m cv2\u001b[38;5;241m.\u001b[39mgetTrackbarPos(\u001b[38;5;124m\"\u001b[39m\u001b[38;5;124mLV\u001b[39m\u001b[38;5;124m\"\u001b[39m, \u001b[38;5;124m\"\u001b[39m\u001b[38;5;124mTracking\u001b[39m\u001b[38;5;124m\"\u001b[39m)       \n",
      "\u001b[1;31merror\u001b[0m: OpenCV(4.5.5) D:\\a\\opencv-python\\opencv-python\\opencv\\modules\\highgui\\src\\window_w32.cpp:2581: error: (-27:Null pointer) NULL window: 'Tracking' in function 'cvGetTrackbarPos'\n"
     ]
    },
    {
     "ename": "",
     "evalue": "",
     "output_type": "error",
     "traceback": [
      "\u001b[1;31mThe Kernel crashed while executing code in the current cell or a previous cell. \n",
      "\u001b[1;31mPlease review the code in the cell(s) to identify a possible cause of the failure. \n",
      "\u001b[1;31mClick <a href='https://aka.ms/vscodeJupyterKernelCrash'>here</a> for more info. \n",
      "\u001b[1;31mView Jupyter <a href='command:jupyter.viewOutput'>log</a> for further details."
     ]
    }
   ],
   "source": [
    "import cv2\n",
    "\n",
    "import numpy as np\n",
    "\n",
    "\n",
    "\n",
    "def nothing(x):\n",
    "\n",
    "    pass    \n",
    "\n",
    "\n",
    "\n",
    "cv2.namedWindow(\"Tracking\")\n",
    "\n",
    "cv2.createTrackbar(\"LH\", \"Tracking\", 0, 255, nothing)\n",
    "\n",
    "cv2.createTrackbar(\"LS\", \"Tracking\", 0, 255, nothing)\n",
    "\n",
    "cv2.createTrackbar(\"LV\", \"Tracking\", 0, 255, nothing)\n",
    "\n",
    "cv2.createTrackbar(\"UH\", \"Tracking\", 255, 255, nothing)\n",
    "\n",
    "cv2.createTrackbar(\"US\", \"Tracking\", 255, 255, nothing)\n",
    "\n",
    "cv2.createTrackbar(\"UV\", \"Tracking\", 255, 255, nothing)\n",
    "\n",
    "\n",
    "\n",
    "while True:\n",
    "\n",
    "    frame = cv2.imread('smarties.png')      \n",
    "\n",
    "\n",
    "\n",
    "    hsv = cv2.cvtColor(frame, cv2.COLOR_BGR2HSV)       \n",
    "\n",
    "\n",
    "\n",
    "    l_h = cv2.getTrackbarPos(\"LH\", \"Tracking\")       \n",
    "\n",
    "    l_s = cv2.getTrackbarPos(\"LS\", \"Tracking\")       \n",
    "\n",
    "    l_v = cv2.getTrackbarPos(\"LV\", \"Tracking\")       \n",
    "\n",
    "\n",
    "\n",
    "    u_h = cv2.getTrackbarPos(\"UH\", \"Tracking\")       \n",
    "\n",
    "    u_s = cv2.getTrackbarPos(\"US\", \"Tracking\")       \n",
    "\n",
    "    u_v = cv2.getTrackbarPos(\"UV\", \"Tracking\")       \n",
    "\n",
    "\n",
    "\n",
    "    l_b = np.array([l_h, l_s, l_v])       \n",
    "\n",
    "    u_b = np.array([u_h, u_s, u_v])       \n",
    "\n",
    "\n",
    "\n",
    "    mask = cv2.inRange(hsv, l_b, u_b)       \n",
    "\n",
    "\n",
    "\n",
    "    res = cv2.bitwise_and(frame, frame, mask=mask)        \n",
    "\n",
    "\n",
    "\n",
    "    cv2.imshow(\"frame\", frame)        \n",
    "\n",
    "    cv2.imshow(\"mask\", mask)        \n",
    "\n",
    "    cv2.imshow(\"res\", res)        \n",
    "\n",
    "\n",
    "\n",
    "    key = cv2.waitKey(1)         \n",
    "\n",
    "    if key == 27:        \n",
    "\n",
    "        break               \n",
    "\n",
    "\n",
    "\n",
    "cv2.destroyAllWindows() #colse window"
   ]
  },
  {
   "cell_type": "code",
   "execution_count": null,
   "metadata": {},
   "outputs": [],
   "source": []
  },
  {
   "cell_type": "code",
   "execution_count": null,
   "metadata": {},
   "outputs": [],
   "source": []
  }
 ],
 "metadata": {
  "kernelspec": {
   "display_name": "yolo",
   "language": "python",
   "name": "python3"
  },
  "language_info": {
   "codemirror_mode": {
    "name": "ipython",
    "version": 3
   },
   "file_extension": ".py",
   "mimetype": "text/x-python",
   "name": "python",
   "nbconvert_exporter": "python",
   "pygments_lexer": "ipython3",
   "version": "3.10.8"
  }
 },
 "nbformat": 4,
 "nbformat_minor": 2
}
