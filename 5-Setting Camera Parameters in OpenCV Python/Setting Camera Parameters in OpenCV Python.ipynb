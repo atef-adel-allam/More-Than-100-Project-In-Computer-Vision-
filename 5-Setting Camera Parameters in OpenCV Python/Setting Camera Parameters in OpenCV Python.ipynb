{
 "cells": [
  {
   "cell_type": "code",
   "execution_count": 19,
   "metadata": {},
   "outputs": [
    {
     "name": "stdout",
     "output_type": "stream",
     "text": [
      "320.0\n",
      "240.0\n"
     ]
    }
   ],
   "source": [
    "import cv2\n",
    "\n",
    "cap=cv2.VideoCapture(0)\n",
    "cap.set(3,270)#video capture width  instead      # print(cap.get(cv2.CAP_PROP_FRAME_WIDTH))\n",
    "        \n",
    "cap.set(4,270)#video capture height instead # print(cap.get(cv2.CAP_PROP_FRAME_HEIGHT))\n",
    "print(cap.get(3))\n",
    "print(cap.get(4))\n",
    "fourcc=cv2.VideoWriter_fourcc(*'XVID')\n",
    "# Out=cv2.VideoWriter(\"x.avi\",fourcc,20,(512,512))\n",
    "while True:\n",
    "    ret, frame=cap.read()\n",
    "    gray=cv2.cvtColor(frame, cv2.COLOR_BGR2GRAY)\n",
    "    cv2.imshow('frame',gray)\n",
    "    if cv2.waitKey(1) & 0xFF == ord('q'):\n",
    "        break\n",
    "\n",
    "cap.release()\n",
    "# Out.release()\n",
    "cv2.destroyAllWindows()"
   ]
  }
 ],
 "metadata": {
  "kernelspec": {
   "display_name": "yolo",
   "language": "python",
   "name": "python3"
  },
  "language_info": {
   "codemirror_mode": {
    "name": "ipython",
    "version": 3
   },
   "file_extension": ".py",
   "mimetype": "text/x-python",
   "name": "python",
   "nbconvert_exporter": "python",
   "pygments_lexer": "ipython3",
   "version": "3.10.8"
  }
 },
 "nbformat": 4,
 "nbformat_minor": 2
}
