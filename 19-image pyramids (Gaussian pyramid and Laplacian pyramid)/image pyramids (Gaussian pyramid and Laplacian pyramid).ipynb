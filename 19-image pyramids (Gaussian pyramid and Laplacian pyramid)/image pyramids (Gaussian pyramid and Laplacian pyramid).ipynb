{
 "cells": [
  {
   "cell_type": "code",
   "execution_count": 4,
   "metadata": {},
   "outputs": [],
   "source": [
    "import cv2\n",
    "\n",
    "import numpy as np\n",
    "\n",
    "from matplotlib import pyplot as plt\n",
    "\n",
    "img = cv2.imread(\"messi5.jpg\", cv2.IMREAD_GRAYSCALE)\n",
    "\n",
    "l1=cv2.pyrDown(img)\n",
    "\n",
    "l2=cv2.pyrDown(l1)\n",
    "\n",
    "l3=cv2.pyrDown(l2)\n",
    "\n",
    "\n",
    "l4=cv2.pyrUp(l3) # up \n",
    "\n",
    "\n",
    "cv2.imshow('images', img)\n",
    "\n",
    "cv2.imshow('level1', l1)\n",
    "\n",
    "cv2.imshow('level2', l2)\n",
    "\n",
    "cv2.imshow('level3', l3)\n",
    "\n",
    "cv2.imshow('level4', l4)\n",
    "\n",
    "cv2.waitKey(0)\n",
    "\n",
    "cv2.destroyAllWindows()\n",
    "\n"
   ]
  }
 ],
 "metadata": {
  "kernelspec": {
   "display_name": "yolo",
   "language": "python",
   "name": "python3"
  },
  "language_info": {
   "codemirror_mode": {
    "name": "ipython",
    "version": 3
   },
   "file_extension": ".py",
   "mimetype": "text/x-python",
   "name": "python",
   "nbconvert_exporter": "python",
   "pygments_lexer": "ipython3",
   "version": "3.10.8"
  }
 },
 "nbformat": 4,
 "nbformat_minor": 2
}
