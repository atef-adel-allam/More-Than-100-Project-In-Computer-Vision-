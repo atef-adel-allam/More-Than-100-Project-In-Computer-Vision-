{
 "cells": [
  {
   "cell_type": "code",
   "execution_count": 7,
   "metadata": {},
   "outputs": [],
   "source": [
    "import pytesseract "
   ]
  },
  {
   "cell_type": "code",
   "execution_count": 8,
   "metadata": {},
   "outputs": [],
   "source": [
    "# !pip install pytesseract\n",
    "# C:\\Program Files\\Tesseract-OCR\\tesseract.exe"
   ]
  },
  {
   "cell_type": "code",
   "execution_count": 11,
   "metadata": {},
   "outputs": [
    {
     "name": "stdout",
     "output_type": "stream",
     "text": [
      "Tesseract installer for Windows\n",
      "\n",
      "Normally we run Tesseract on Debian GNU Linux, but there was also the need for a Windows version. That's why we have built\n",
      "a Tesseract installer for Windows.\n",
      "\n",
      "WARNING: Tesseract should be either installed in the directory which is suggested during the installation or in a new\n",
      "directory. The uninstaller removes the whole installation directory. If you installed Tesseract in an existing directory, that\n",
      "directory will be removed with all its subdirectories and files.\n",
      "\n"
     ]
    }
   ],
   "source": [
    "import cv2\n",
    "pytesseract.pytesseract.tesseract_cmd =r'C:\\Program Files\\Tesseract-OCR\\tesseract.exe'\n",
    "\n",
    "img = cv2.imread('7.png')\n",
    "\n",
    "# Convert the image to grayscale\n",
    "\n",
    "gray = cv2.cvtColor(img, cv2.COLOR_BGR2GRAY)\n",
    "\n",
    "# Apply OCR\n",
    "\n",
    "text = pytesseract.image_to_string(gray)\n",
    "\n",
    "print(text)\n",
    "\n",
    "# Display the original image and the output text\n",
    "\n",
    "cv2.imshow('Original Image', img)\n",
    "\n",
    "cv2.imshow('Output Text', cv2.cvtColor(gray, cv2.COLOR_GRAY2BGR))\n",
    "\n",
    "cv2.waitKey(0)\n",
    "\n",
    "cv2.destroyAllWindows()\n",
    "\n",
    "# The output text from the image is:\n",
    "\n",
    "# This is an example of an image with text that was scanned using OCR.\n"
   ]
  }
 ],
 "metadata": {
  "kernelspec": {
   "display_name": "yolo",
   "language": "python",
   "name": "python3"
  },
  "language_info": {
   "codemirror_mode": {
    "name": "ipython",
    "version": 3
   },
   "file_extension": ".py",
   "mimetype": "text/x-python",
   "name": "python",
   "nbconvert_exporter": "python",
   "pygments_lexer": "ipython3",
   "version": "3.10.8"
  }
 },
 "nbformat": 4,
 "nbformat_minor": 2
}
