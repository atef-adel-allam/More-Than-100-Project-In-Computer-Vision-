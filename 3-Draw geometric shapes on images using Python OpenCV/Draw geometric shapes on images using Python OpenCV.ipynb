{
 "cells": [
  {
   "cell_type": "code",
   "execution_count": 1,
   "metadata": {},
   "outputs": [],
   "source": [
    "import numpy as np\n",
    "import cv2"
   ]
  },
  {
   "cell_type": "code",
   "execution_count": 41,
   "metadata": {},
   "outputs": [
    {
     "name": "stdout",
     "output_type": "stream",
     "text": [
      "(512, 512, 3)\n"
     ]
    }
   ],
   "source": [
    "# img=cv2.imread('Apple.png',0)\n",
    "\n",
    "\n",
    "img=np.zeros((512,512,3), dtype=np.int8)\n",
    "img=cv2.line(img,(0,0),(265,265),(255,255,255 ),10)\n",
    "img=cv2.arrowedLine(img,(0,0),(265,265),(255,255,255 ),10)\n",
    "img =cv2.circle(img,(284 ,63),63,(255,255,255),10)\n",
    "img =cv2.rectangle(img, (200,200),(300,350), (0,55,0), 10)\n",
    "# img =cv2.ellipse(img,(0,0,50),(255,255,0 ),0   ,10,)\n",
    "font=cv2.FONT_HERSHEY_SIMPLEX\n",
    "img=cv2.putText(img,'hello',(205,150),font,4,(255,255,0))\n",
    "\n",
    "print(img.shape)\n",
    "cv2.imshow('Phone',img)\n",
    "\n",
    "cv2.waitKey(0)\n",
    "\n",
    "cv2.destroyAllWindows()"
   ]
  }
 ],
 "metadata": {
  "kernelspec": {
   "display_name": "yolo",
   "language": "python",
   "name": "python3"
  },
  "language_info": {
   "codemirror_mode": {
    "name": "ipython",
    "version": 3
   },
   "file_extension": ".py",
   "mimetype": "text/x-python",
   "name": "python",
   "nbconvert_exporter": "python",
   "pygments_lexer": "ipython3",
   "version": "3.10.8"
  }
 },
 "nbformat": 4,
 "nbformat_minor": 2
}
